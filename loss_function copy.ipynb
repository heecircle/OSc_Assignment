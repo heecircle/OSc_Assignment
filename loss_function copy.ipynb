{
 "cells": [
  {
   "cell_type": "code",
   "execution_count": 3,
   "metadata": {},
   "outputs": [],
   "source": [
    "import sys\n",
    "import tensorflow as tf\n",
    "import keras\n",
    "from keras.models import Sequential\n",
    "from keras.layers import Dense, Dropout, Flatten\n",
    "from keras.layers.convolutional import Conv2D, MaxPooling2D\n",
    "import numpy as np"
   ]
  },
  {
   "cell_type": "code",
   "execution_count": 4,
   "metadata": {},
   "outputs": [
    {
     "name": "stdout",
     "output_type": "stream",
     "text": [
      "Downloading data from https://storage.googleapis.com/tensorflow/tf-keras-datasets/mnist.npz\n",
      "11493376/11490434 [==============================] - 2s 0us/step\n",
      "11501568/11490434 [==============================] - 2s 0us/step\n"
     ]
    }
   ],
   "source": [
    "(x_train, y_train), (x_test, y_test) = keras.datasets.mnist.load_data()"
   ]
  },
  {
   "cell_type": "code",
   "execution_count": 15,
   "metadata": {},
   "outputs": [
    {
     "name": "stdout",
     "output_type": "stream",
     "text": [
      "x_train shape: (60000, 28, 28, 1)\n",
      "60000 train samples\n",
      "10000 test samples\n"
     ]
    }
   ],
   "source": [
    "img_rows = 28\n",
    "img_cols = 28\n",
    "\n",
    "x_train = x_train.reshape(x_train.shape[0], img_rows, img_cols, 1)\n",
    "x_test = x_test.reshape(x_test.shape[0], img_rows, img_cols, 1)\n",
    "\n",
    "x_train = x_train.astype('float32') / 255.\n",
    "x_test = x_test.astype('float32') / 255.\n",
    "\n",
    "print('x_train shape:', x_train.shape)\n",
    "print(x_train.shape[0], 'train samples')\n",
    "print(x_test.shape[0], 'test samples')\n",
    "\n"
   ]
  },
  {
   "cell_type": "code",
   "execution_count": null,
   "metadata": {},
   "outputs": [],
   "source": [
    "def ccee(predict, label):\n",
    "    delta = 1e-7\n",
    "    log_pred = np.log(predict + delta)\n",
    "\n",
    "    return -(np.sum(np.sum(label * log_pred, axis = 1)))/label.shape[0]"
   ]
  },
  {
   "cell_type": "code",
   "execution_count": 16,
   "metadata": {},
   "outputs": [
    {
     "ename": "AttributeError",
     "evalue": "module 'keras.utils' has no attribute 'to_categorical'",
     "output_type": "error",
     "traceback": [
      "\u001b[0;31m---------------------------------------------------------------------------\u001b[0m",
      "\u001b[0;31mAttributeError\u001b[0m                            Traceback (most recent call last)",
      "\u001b[1;32m/Users/yongheewon/Documents/opensource/loss_function.ipynb Cell 4'\u001b[0m in \u001b[0;36m<cell line: 2>\u001b[0;34m()\u001b[0m\n\u001b[1;32m      <a href='vscode-notebook-cell:/Users/yongheewon/Documents/opensource/loss_function.ipynb#ch0000006?line=0'>1</a>\u001b[0m num_classes \u001b[39m=\u001b[39m \u001b[39m10\u001b[39m\n\u001b[0;32m----> <a href='vscode-notebook-cell:/Users/yongheewon/Documents/opensource/loss_function.ipynb#ch0000006?line=1'>2</a>\u001b[0m y_train \u001b[39m=\u001b[39m keras\u001b[39m.\u001b[39;49mutils\u001b[39m.\u001b[39;49mto_categorical(y_train, num_classes)\n\u001b[1;32m      <a href='vscode-notebook-cell:/Users/yongheewon/Documents/opensource/loss_function.ipynb#ch0000006?line=2'>3</a>\u001b[0m y_test \u001b[39m=\u001b[39m keras\u001b[39m.\u001b[39mutils\u001b[39m.\u001b[39mto_categorical(y_test, num_classes)\n",
      "\u001b[0;31mAttributeError\u001b[0m: module 'keras.utils' has no attribute 'to_categorical'"
     ]
    }
   ],
   "source": [
    "num_classes = 10\n",
    "y_train = keras.utils.to_categorical(y_train, num_classes)\n",
    "y_test = keras.utils.to_categorical(y_test, num_classes)"
   ]
  },
  {
   "cell_type": "code",
   "execution_count": 6,
   "metadata": {},
   "outputs": [
    {
     "ename": "ModuleNotFoundError",
     "evalue": "No module named 'matplotlib'",
     "output_type": "error",
     "traceback": [
      "\u001b[0;31m---------------------------------------------------------------------------\u001b[0m",
      "\u001b[0;31mModuleNotFoundError\u001b[0m                       Traceback (most recent call last)",
      "\u001b[1;32m/Users/yongheewon/Documents/opensource/loss_function.ipynb Cell 4'\u001b[0m in \u001b[0;36m<cell line: 2>\u001b[0;34m()\u001b[0m\n\u001b[1;32m      <a href='vscode-notebook-cell:/Users/yongheewon/Documents/opensource/loss_function.ipynb#ch0000003?line=0'>1</a>\u001b[0m \u001b[39mimport\u001b[39;00m \u001b[39mrandom\u001b[39;00m\n\u001b[0;32m----> <a href='vscode-notebook-cell:/Users/yongheewon/Documents/opensource/loss_function.ipynb#ch0000003?line=1'>2</a>\u001b[0m \u001b[39mimport\u001b[39;00m \u001b[39mmatplotlib\u001b[39;00m\u001b[39m.\u001b[39;00m\u001b[39mpyplot\u001b[39;00m \u001b[39mas\u001b[39;00m \u001b[39mplt\u001b[39;00m\n\u001b[1;32m      <a href='vscode-notebook-cell:/Users/yongheewon/Documents/opensource/loss_function.ipynb#ch0000003?line=3'>4</a>\u001b[0m predicted_result \u001b[39m=\u001b[39m model\u001b[39m.\u001b[39mpredict(x_test)\n\u001b[1;32m      <a href='vscode-notebook-cell:/Users/yongheewon/Documents/opensource/loss_function.ipynb#ch0000003?line=4'>5</a>\u001b[0m predicted_labels \u001b[39m=\u001b[39m np\u001b[39m.\u001b[39margmax(predicted_result, axis\u001b[39m=\u001b[39m\u001b[39m1\u001b[39m)\n",
      "\u001b[0;31mModuleNotFoundError\u001b[0m: No module named 'matplotlib'"
     ]
    }
   ],
   "source": [
    "import random\n",
    "import matplotlib.pyplot as plt\n",
    "\n",
    "predicted_result = model.predict(x_test)\n",
    "predicted_labels = np.argmax(predicted_result, axis=1)\n",
    "\n",
    "test_labels = np.argmax(y_test, axis=1)\n",
    "\n",
    "count = 0\n",
    "\n",
    "plt.figure(figsize=(12,8))\n",
    "for n in range(16):\n",
    "    count += 1\n",
    "    plt.subplot(4, 4, count)\n",
    "    plt.imshow(x_test[n].reshape(28, 28), cmap='Greys', interpolation='nearest')\n",
    "    tmp = \"Label:\" + str(test_labels[n]) + \", Prediction:\" + str(predicted_labels[n])\n",
    "    plt.title(tmp)\n",
    "\n",
    "plt.tight_layout()\n",
    "plt.show()"
   ]
  },
  {
   "cell_type": "code",
   "execution_count": 13,
   "metadata": {},
   "outputs": [
    {
     "name": "stdout",
     "output_type": "stream",
     "text": [
      "Model: \"as3s6g-confscore-center\"\n",
      "_________________________________________________________________\n",
      " Layer (type)                Output Shape              Param #   \n",
      "=================================================================\n",
      " input_1 (InputLayer)        [(None, 75, 3)]           0         \n",
      "                                                                 \n",
      " c1 (Conv1D)                 (None, 75, 64)            1024      \n",
      "                                                                 \n",
      " c2 (Conv1D)                 (None, 75, 64)            20544     \n",
      "                                                                 \n",
      " conv1d (Conv1D)             (None, 75, 64)            20544     \n",
      "                                                                 \n",
      " c3 (Conv1D)                 (None, 75, 128)           41088     \n",
      "                                                                 \n",
      " c4 (Conv1D)                 (None, 75, 128)           82048     \n",
      "                                                                 \n",
      " c6 (Conv1D)                 (None, 75, 256)           164096    \n",
      "                                                                 \n",
      " c7 (Conv1D)                 (None, 75, 256)           327936    \n",
      "                                                                 \n",
      " c9 (Conv1D)                 (None, 75, 512)           655872    \n",
      "                                                                 \n",
      " c10 (Conv1D)                (None, 75, 512)           1311232   \n",
      "                                                                 \n",
      " conv1d_1 (Conv1D)           (None, 75, 256)           655616    \n",
      "                                                                 \n",
      " conv1d_2 (Conv1D)           (None, 75, 256)           65792     \n",
      "                                                                 \n",
      " conv1d_3 (Conv1D)           (None, 75, 128)           32896     \n",
      "                                                                 \n",
      " conv1d_4 (Conv1D)           (None, 75, 128)           16512     \n",
      "                                                                 \n",
      " flatten (Flatten)           (None, 9600)              0         \n",
      "                                                                 \n",
      " fc3 (Dense)                 (None, 128)               1228928   \n",
      "                                                                 \n",
      " dropout (Dropout)           (None, 128)               0         \n",
      "                                                                 \n",
      " fc4 (Dense)                 (None, 64)                8256      \n",
      "                                                                 \n",
      " dropout_1 (Dropout)         (None, 64)                0         \n",
      "                                                                 \n",
      " dense (Dense)               (None, 32)                2080      \n",
      "                                                                 \n",
      " dropout_2 (Dropout)         (None, 32)                0         \n",
      "                                                                 \n",
      " dense_1 (Dense)             (None, 16)                528       \n",
      "                                                                 \n",
      " dropout_3 (Dropout)         (None, 16)                0         \n",
      "                                                                 \n",
      " fc5 (Dense)                 (None, 12)                204       \n",
      "                                                                 \n",
      " reshape (Reshape)           (None, 6, 2)              0         \n",
      "                                                                 \n",
      "=================================================================\n",
      "Total params: 4,635,196\n",
      "Trainable params: 4,635,196\n",
      "Non-trainable params: 0\n",
      "_________________________________________________________________\n",
      "Model: \"as3s6g-confscore-center\"\n",
      "_________________________________________________________________\n",
      " Layer (type)                Output Shape              Param #   \n",
      "=================================================================\n",
      " input_1 (InputLayer)        [(None, 75, 3)]           0         \n",
      "                                                                 \n",
      " c1 (Conv1D)                 (None, 75, 64)            1024      \n",
      "                                                                 \n",
      " c2 (Conv1D)                 (None, 75, 64)            20544     \n",
      "                                                                 \n",
      " conv1d (Conv1D)             (None, 75, 64)            20544     \n",
      "                                                                 \n",
      " c3 (Conv1D)                 (None, 75, 128)           41088     \n",
      "                                                                 \n",
      " c4 (Conv1D)                 (None, 75, 128)           82048     \n",
      "                                                                 \n",
      " c6 (Conv1D)                 (None, 75, 256)           164096    \n",
      "                                                                 \n",
      " c7 (Conv1D)                 (None, 75, 256)           327936    \n",
      "                                                                 \n",
      " c9 (Conv1D)                 (None, 75, 512)           655872    \n",
      "                                                                 \n",
      " c10 (Conv1D)                (None, 75, 512)           1311232   \n",
      "                                                                 \n",
      " conv1d_1 (Conv1D)           (None, 75, 256)           655616    \n",
      "                                                                 \n",
      " conv1d_2 (Conv1D)           (None, 75, 256)           65792     \n",
      "                                                                 \n",
      " conv1d_3 (Conv1D)           (None, 75, 128)           32896     \n",
      "                                                                 \n",
      " conv1d_4 (Conv1D)           (None, 75, 128)           16512     \n",
      "                                                                 \n",
      " flatten (Flatten)           (None, 9600)              0         \n",
      "                                                                 \n",
      " fc3 (Dense)                 (None, 128)               1228928   \n",
      "                                                                 \n",
      " dropout (Dropout)           (None, 128)               0         \n",
      "                                                                 \n",
      " fc4 (Dense)                 (None, 64)                8256      \n",
      "                                                                 \n",
      " dropout_1 (Dropout)         (None, 64)                0         \n",
      "                                                                 \n",
      " dense (Dense)               (None, 32)                2080      \n",
      "                                                                 \n",
      " dropout_2 (Dropout)         (None, 32)                0         \n",
      "                                                                 \n",
      " dense_1 (Dense)             (None, 16)                528       \n",
      "                                                                 \n",
      " dropout_3 (Dropout)         (None, 16)                0         \n",
      "                                                                 \n",
      " fc5 (Dense)                 (None, 12)                204       \n",
      "                                                                 \n",
      " reshape (Reshape)           (None, 6, 2)              0         \n",
      "                                                                 \n",
      "=================================================================\n",
      "Total params: 4,635,196\n",
      "Trainable params: 4,635,196\n",
      "Non-trainable params: 0\n",
      "_________________________________________________________________\n"
     ]
    }
   ],
   "source": [
    "def create_model( img_rows,img_cols, num_classes):\n",
    "    inputs = tf.keras.Input(shape=(img_rows, img_cols, 1))\n",
    "    x = tf.keras.layers.Conv2D(32, kernel_size = (5,5), name='c1', padding='same',\n",
    "                               activation='relu')(inputs)\n",
    "    x = tf.keras.layers.MaxPool2D(pool_size = (2,2),strides = (2,2))(x)\n",
    "    \n",
    "    x = tf.keras.layers.Conv2D(64, kernel_size = (2,2), name='c1', padding='same',\n",
    "                               activation='relu')(x)\n",
    "    x = tf.keras.layers.MaxPool2D(pool_size = (2,2))(x)\n",
    "    \n",
    "    x = tf.keras.layers.Dropout(0.25)(x)\n",
    "    x = tf.keras.layers.Flatten(name='flatten')(x)   \n",
    "    x = tf.keras.layers.Dense(1000, name='fc3', activation='leaky_relu')(x)\n",
    "    x = tf.keras.layers.Dropout(0.5)(x)\n",
    "    x = tf.keras.layers.Dense(num_classes, activation='softmax')(x)\n",
    "    model.summary()\n",
    "    return model\n",
    "\n",
    "\n",
    "\n",
    "model = create_model(img_cols, img_rows, num_classes)\n",
    "model.summary()"
   ]
  },
  {
   "cell_type": "code",
   "execution_count": null,
   "metadata": {},
   "outputs": [],
   "source": []
  }
 ],
 "metadata": {
  "interpreter": {
   "hash": "ba2ba9c7e88b3c3c34efc930d9feb99cd3d5cee985ed7c06ee80b594abe75eb7"
  },
  "kernelspec": {
   "display_name": "Python 3.8.13 ('foss')",
   "language": "python",
   "name": "python3"
  },
  "language_info": {
   "codemirror_mode": {
    "name": "ipython",
    "version": 3
   },
   "file_extension": ".py",
   "mimetype": "text/x-python",
   "name": "python",
   "nbconvert_exporter": "python",
   "pygments_lexer": "ipython3",
   "version": "3.8.13"
  },
  "orig_nbformat": 4
 },
 "nbformat": 4,
 "nbformat_minor": 2
}
