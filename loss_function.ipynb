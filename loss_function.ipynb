{
 "cells": [
  {
   "cell_type": "code",
   "execution_count": 1,
   "metadata": {},
   "outputs": [],
   "source": [
    "import sys\n",
    "import tensorflow as tf\n",
    "import keras\n",
    "from keras.models import Sequential\n",
    "from keras.layers import Dense, Dropout, Flatten\n",
    "from keras.layers.convolutional import Conv2D, MaxPooling2D\n",
    "from keras.utils import np_utils\n",
    "import numpy as np"
   ]
  },
  {
   "cell_type": "markdown",
   "metadata": {
    "collapsed": false
   },
   "source": []
  },
  {
   "cell_type": "code",
   "execution_count": 2,
   "metadata": {},
   "outputs": [],
   "source": [
    "(x_train, y_train), (x_test, y_test) = keras.datasets.mnist.load_data()"
   ]
  },
  {
   "cell_type": "code",
   "execution_count": 3,
   "metadata": {},
   "outputs": [
    {
     "name": "stdout",
     "output_type": "stream",
     "text": [
      "x_train shape: (60000, 28, 28, 1)\n",
      "60000 train samples\n",
      "10000 test samples\n"
     ]
    }
   ],
   "source": [
    "img_rows = 28\n",
    "img_cols = 28\n",
    "\n",
    "x_train = x_train.reshape(x_train.shape[0], img_rows, img_cols, 1)\n",
    "x_test = x_test.reshape(x_test.shape[0], img_rows, img_cols, 1)\n",
    "\n",
    "x_train = x_train.astype('float32') / 255.\n",
    "x_test = x_test.astype('float32') / 255.\n",
    "\n",
    "print('x_train shape:', x_train.shape)\n",
    "print(x_train.shape[0], 'train samples')\n",
    "print(x_test.shape[0], 'test samples')\n"
   ]
  },
  {
   "cell_type": "code",
   "execution_count": 4,
   "metadata": {},
   "outputs": [],
   "source": [
    "def ccee(y_true, y_pred):\n",
    "    delta = 1e-7\n",
    "    log_pred = tf.math.log(y_pred + delta)\n",
    "\n",
    "    return -(tf.reduce_sum(tf.reduce_sum(y_true * log_pred, axis = 1)))/y_true.shape[0]"
   ]
  },
  {
   "cell_type": "code",
   "execution_count": 5,
   "metadata": {},
   "outputs": [],
   "source": [
    "num_classes = 10\n",
    "y_train = keras.utils.np_utils.to_categorical(y_train, num_classes)\n",
    "y_test = keras.utils.np_utils.to_categorical(y_test, num_classes)"
   ]
  },
  {
   "cell_type": "code",
   "execution_count": 6,
   "metadata": {},
   "outputs": [
    {
     "name": "stdout",
     "output_type": "stream",
     "text": [
      "28 28\n",
      "Model: \"image_class\"\n",
      "_________________________________________________________________\n",
      " Layer (type)                Output Shape              Param #   \n",
      "=================================================================\n",
      " input_1 (InputLayer)        [(None, 28, 28, 1)]       0         \n",
      "                                                                 \n",
      " conv2d (Conv2D)             (None, 28, 28, 32)        832       \n",
      "                                                                 \n",
      " max_pooling2d (MaxPooling2D  (None, 14, 14, 32)       0         \n",
      " )                                                               \n",
      "                                                                 \n",
      " conv2d_1 (Conv2D)           (None, 14, 14, 64)        8256      \n",
      "                                                                 \n",
      " max_pooling2d_1 (MaxPooling  (None, 7, 7, 64)         0         \n",
      " 2D)                                                             \n",
      "                                                                 \n",
      " dropout (Dropout)           (None, 7, 7, 64)          0         \n",
      "                                                                 \n",
      " flatten (Flatten)           (None, 3136)              0         \n",
      "                                                                 \n",
      " dense (Dense)               (None, 1000)              3137000   \n",
      "                                                                 \n",
      " dropout_1 (Dropout)         (None, 1000)              0         \n",
      "                                                                 \n",
      " dense_1 (Dense)             (None, 10)                10010     \n",
      "                                                                 \n",
      "=================================================================\n",
      "Total params: 3,156,098\n",
      "Trainable params: 3,156,098\n",
      "Non-trainable params: 0\n",
      "_________________________________________________________________\n"
     ]
    }
   ],
   "source": [
    "def create_model_( img_rows,img_cols, num_classes):\n",
    "    inputs = tf.keras.Input(shape=(28, 28, 1))\n",
    "    x = tf.keras.layers.Conv2D(32, kernel_size = (5,5), padding='same',\n",
    "                               activation='relu')(inputs)\n",
    "    x = tf.keras.layers.MaxPool2D(pool_size = (2,2),strides = (2,2))(x)\n",
    "    \n",
    "    x = tf.keras.layers.Conv2D(64, kernel_size = (2,2),padding='same',\n",
    "                               activation='relu')(x)\n",
    "    x = tf.keras.layers.MaxPool2D(pool_size = (2,2))(x)\n",
    "    \n",
    "    x = tf.keras.layers.Dropout(0.25)(x)\n",
    "    x = tf.keras.layers.Flatten()(x)   \n",
    "    x = tf.keras.layers.Dense(1000, activation='leaky_relu')(x)\n",
    "    x = tf.keras.layers.Dropout(0.5)(x)\n",
    "    outputs = tf.keras.layers.Dense(num_classes, activation='softmax')(x)\n",
    "    \n",
    "    model = keras.Model(inputs, outputs, name='image_class')\n",
    "    return model\n",
    "\n",
    "\n",
    "print(img_cols, img_rows)\n",
    "model = create_model_(img_rows,img_cols, num_classes)\n",
    "model.summary()"
   ]
  },
  {
   "cell_type": "code",
   "execution_count": null,
   "metadata": {
    "collapsed": false,
    "pycharm": {
     "name": "#%%\n"
    }
   },
   "outputs": [],
   "source": []
  },
  {
   "cell_type": "code",
   "execution_count": 7,
   "metadata": {},
   "outputs": [
    {
     "name": "stdout",
     "output_type": "stream",
     "text": [
      "Epoch 1/10\n"
     ]
    },
    {
     "name": "stderr",
     "output_type": "stream",
     "text": [
      "2022-06-26 12:24:22.787706: W tensorflow/core/platform/profile_utils/cpu_utils.cc:128] Failed to get CPU frequency: 0 Hz\n"
     ]
    },
    {
     "name": "stdout",
     "output_type": "stream",
     "text": [
      "6000/6000 [==============================] - 68s 11ms/step - loss: 0.1259 - accuracy: 0.9608 - val_loss: 0.0342 - val_accuracy: 0.9888\n",
      "Epoch 2/10\n",
      "6000/6000 [==============================] - 77s 13ms/step - loss: 0.0657 - accuracy: 0.9800 - val_loss: 0.0442 - val_accuracy: 0.9865\n",
      "Epoch 3/10\n",
      "6000/6000 [==============================] - 81s 13ms/step - loss: 0.0554 - accuracy: 0.9827 - val_loss: 0.0312 - val_accuracy: 0.9902\n",
      "Epoch 4/10\n",
      "6000/6000 [==============================] - 91s 15ms/step - loss: 0.0503 - accuracy: 0.9850 - val_loss: 0.0385 - val_accuracy: 0.9885\n",
      "Epoch 5/10\n",
      "6000/6000 [==============================] - 110s 18ms/step - loss: 0.0481 - accuracy: 0.9862 - val_loss: 0.0359 - val_accuracy: 0.9887\n",
      "Epoch 6/10\n",
      "6000/6000 [==============================] - 110s 18ms/step - loss: 0.0481 - accuracy: 0.9860 - val_loss: 0.0637 - val_accuracy: 0.9829\n",
      "Epoch 7/10\n",
      "6000/6000 [==============================] - 108s 18ms/step - loss: 0.0444 - accuracy: 0.9873 - val_loss: 0.0417 - val_accuracy: 0.9903\n",
      "Epoch 8/10\n",
      "6000/6000 [==============================] - 116s 19ms/step - loss: 0.0432 - accuracy: 0.9875 - val_loss: 0.0325 - val_accuracy: 0.9906\n",
      "Epoch 9/10\n",
      "6000/6000 [==============================] - 103s 17ms/step - loss: 0.0430 - accuracy: 0.9886 - val_loss: 0.0329 - val_accuracy: 0.9898\n",
      "Epoch 10/10\n",
      "6000/6000 [==============================] - 97s 16ms/step - loss: 0.0448 - accuracy: 0.9884 - val_loss: 0.0318 - val_accuracy: 0.9902\n"
     ]
    }
   ],
   "source": [
    "model.compile( loss = ccee,optimizer='adam', metrics= ['accuracy'] )\n",
    "hist = model.fit(x_train, y_train, batch_size=10, epochs=  10, verbose=1, validation_data=(x_test, y_test))"
   ]
  },
  {
   "cell_type": "code",
   "execution_count": 13,
   "metadata": {},
   "outputs": [
    {
     "data": {
      "image/png": "[encoded data removed]",
      "text/plain": [
       "<Figure size 432x288 with 1 Axes>"
      ]
     },
     "metadata": {
      "needs_background": "light"
     },
     "output_type": "display_data"
    }
   ],
   "source": [
    "from matplotlib import pyplot as plt\n",
    "\n",
    "\n",
    "plt.plot(hist.history['accuracy'])\n",
    "plt.plot(hist.history['val_accuracy'])\n",
    "plt.title('model accuracy')\n",
    "plt.ylabel('accuracy')\n",
    "plt.xlabel('epoch')\n",
    "plt.legend(['train', 'val'], loc='upper left')\n",
    "plt.show()"
   ]
  },
  {
   "cell_type": "code",
   "execution_count": null,
   "metadata": {},
   "outputs": [],
   "source": []
  },
  {
   "cell_type": "code",
   "execution_count": null,
   "metadata": {},
   "outputs": [],
   "source": []
  },
  {
   "cell_type": "code",
   "execution_count": null,
   "metadata": {},
   "outputs": [],
   "source": []
  }
 ],
 "metadata": {
  "interpreter": {
   "hash": "ba2ba9c7e88b3c3c34efc930d9feb99cd3d5cee985ed7c06ee80b594abe75eb7"
  },
  "kernelspec": {
   "display_name": "Python 3.8.13 ('foss')",
   "language": "python",
   "name": "python3"
  },
  "language_info": {
   "codemirror_mode": {
    "name": "ipython",
    "version": 3
   },
   "file_extension": ".py",
   "mimetype": "text/x-python",
   "name": "python",
   "nbconvert_exporter": "python",
   "pygments_lexer": "ipython3",
   "version": "3.8.13"
  },
  "orig_nbformat": 4
 },
 "nbformat": 4,
 "nbformat_minor": 2
}
